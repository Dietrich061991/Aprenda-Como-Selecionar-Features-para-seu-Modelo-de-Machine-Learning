{
  "nbformat": 4,
  "nbformat_minor": 0,
  "metadata": {
    "colab": {
      "name": "Aprenda Como Selecionar Features para seu Modelo de Machine Learning.ipynb",
      "provenance": [],
      "authorship_tag": "ABX9TyNMVrZmlliR1eW3i6B0tZka",
      "include_colab_link": true
    },
    "kernelspec": {
      "name": "python3",
      "display_name": "Python 3"
    }
  },
  "cells": [
    {
      "cell_type": "markdown",
      "metadata": {
        "id": "view-in-github",
        "colab_type": "text"
      },
      "source": [
        "<a href=\"https://colab.research.google.com/github/Dietrich061991/Aprenda-Como-Selecionar-Features-para-seu-Modelo-de-Machine-Learning/blob/master/Aprenda_Como_Selecionar_Features_para_seu_Modelo_de_Machine_Learning.ipynb\" target=\"_parent\"><img src=\"https://colab.research.google.com/assets/colab-badge.svg\" alt=\"Open In Colab\"/></a>"
      ]
    },
    {
      "cell_type": "markdown",
      "metadata": {
        "id": "Pnt3Xx-hRmKf",
        "colab_type": "text"
      },
      "source": [
        "**Limpeza de dados e Selecionar Features para seu Modelo de Machine Learning**"
      ]
    },
    {
      "cell_type": "markdown",
      "metadata": {
        "id": "cqw5fhZmNpS3",
        "colab_type": "text"
      },
      "source": [
        "# Tratamento e Limpeza dos dados"
      ]
    },
    {
      "cell_type": "markdown",
      "metadata": {
        "id": "p9TrI2r6TXFn",
        "colab_type": "text"
      },
      "source": [
        "![alt text](https://media.giphy.com/media/xT39Dj840Y1DEOp1e0/giphy.gif)"
      ]
    },
    {
      "cell_type": "code",
      "metadata": {
        "id": "VX8U3l01OJni",
        "colab_type": "code",
        "colab": {}
      },
      "source": [
        "import pandas as pd\n",
        "import numpy as np\n",
        "from google.colab import drive"
      ],
      "execution_count": 0,
      "outputs": []
    },
    {
      "cell_type": "code",
      "metadata": {
        "id": "LJOIPam2Qj5t",
        "colab_type": "code",
        "outputId": "f0596972-2efb-4f12-e1dd-8f674a272019",
        "colab": {
          "base_uri": "https://localhost:8080/",
          "height": 122
        }
      },
      "source": [
        "drive.mount('/content/drive')"
      ],
      "execution_count": 11,
      "outputs": [
        {
          "output_type": "stream",
          "text": [
            "Go to this URL in a browser: https://accounts.google.com/o/oauth2/auth?client_id=947318989803-6bn6qk8qdgf4n4g3pfee6491hc0brc4i.apps.googleusercontent.com&redirect_uri=urn%3aietf%3awg%3aoauth%3a2.0%3aoob&response_type=code&scope=email%20https%3a%2f%2fwww.googleapis.com%2fauth%2fdocs.test%20https%3a%2f%2fwww.googleapis.com%2fauth%2fdrive%20https%3a%2f%2fwww.googleapis.com%2fauth%2fdrive.photos.readonly%20https%3a%2f%2fwww.googleapis.com%2fauth%2fpeopleapi.readonly\n",
            "\n",
            "Enter your authorization code:\n",
            "··········\n",
            "Mounted at /content/drive\n"
          ],
          "name": "stdout"
        }
      ]
    },
    {
      "cell_type": "code",
      "metadata": {
        "id": "mI6lv_d4R3lF",
        "colab_type": "code",
        "outputId": "56a03606-8ea5-476f-a41f-bf64cac9310c",
        "colab": {
          "base_uri": "https://localhost:8080/",
          "height": 323
        }
      },
      "source": [
        "df =  pd.read_excel ('/content/drive/My Drive/Python-Machine-Learning/PIMPF.xlsx')\n",
        "df.head(5)"
      ],
      "execution_count": 12,
      "outputs": [
        {
          "output_type": "execute_result",
          "data": {
            "text/html": [
              "<div>\n",
              "<style scoped>\n",
              "    .dataframe tbody tr th:only-of-type {\n",
              "        vertical-align: middle;\n",
              "    }\n",
              "\n",
              "    .dataframe tbody tr th {\n",
              "        vertical-align: top;\n",
              "    }\n",
              "\n",
              "    .dataframe thead th {\n",
              "        text-align: right;\n",
              "    }\n",
              "</style>\n",
              "<table border=\"1\" class=\"dataframe\">\n",
              "  <thead>\n",
              "    <tr style=\"text-align: right;\">\n",
              "      <th></th>\n",
              "      <th>PIMPF - Produção física industrial por grupos e classes industriais selecionados</th>\n",
              "      <th>Unnamed: 1</th>\n",
              "      <th>Unnamed: 2</th>\n",
              "      <th>Unnamed: 3</th>\n",
              "      <th>Unnamed: 4</th>\n",
              "      <th>Unnamed: 5</th>\n",
              "      <th>Unnamed: 6</th>\n",
              "      <th>Unnamed: 7</th>\n",
              "    </tr>\n",
              "  </thead>\n",
              "  <tbody>\n",
              "    <tr>\n",
              "      <th>0</th>\n",
              "      <td>Brasil - abril 2020</td>\n",
              "      <td>NaN</td>\n",
              "      <td>NaN</td>\n",
              "      <td>NaN</td>\n",
              "      <td>NaN</td>\n",
              "      <td>NaN</td>\n",
              "      <td>NaN</td>\n",
              "      <td>NaN</td>\n",
              "    </tr>\n",
              "    <tr>\n",
              "      <th>1</th>\n",
              "      <td>Grupos e classes industriais selecionados</td>\n",
              "      <td>Tipo de índice</td>\n",
              "      <td>NaN</td>\n",
              "      <td>NaN</td>\n",
              "      <td>NaN</td>\n",
              "      <td>NaN</td>\n",
              "      <td>NaN</td>\n",
              "      <td>NaN</td>\n",
              "    </tr>\n",
              "    <tr>\n",
              "      <th>2</th>\n",
              "      <td>NaN</td>\n",
              "      <td>Índice de base fixa mensal sem ajuste sazonal ...</td>\n",
              "      <td>Índice mensal(Base: igual mês do ano anterior ...</td>\n",
              "      <td>Índice acumulado (Base: igual período do ano a...</td>\n",
              "      <td>Índice acumulado de 12 meses (Base: últimos 12...</td>\n",
              "      <td>Variação percentual mensal (Base: igual mês do...</td>\n",
              "      <td>Variação percentual acumulada no ano (Base: ig...</td>\n",
              "      <td>Variação percentual acumulada nos últimos 12 m...</td>\n",
              "    </tr>\n",
              "    <tr>\n",
              "      <th>3</th>\n",
              "      <td>10.1 Abate e fabricação de produtos de carne</td>\n",
              "      <td>95.7</td>\n",
              "      <td>96.1</td>\n",
              "      <td>99.2</td>\n",
              "      <td>103.2</td>\n",
              "      <td>-3.9</td>\n",
              "      <td>-0.8</td>\n",
              "      <td>3.2</td>\n",
              "    </tr>\n",
              "    <tr>\n",
              "      <th>4</th>\n",
              "      <td>10.11 Abate de reses, exceto suínos</td>\n",
              "      <td>91.5</td>\n",
              "      <td>90</td>\n",
              "      <td>93.4</td>\n",
              "      <td>98.5</td>\n",
              "      <td>-10</td>\n",
              "      <td>-6.6</td>\n",
              "      <td>-1.5</td>\n",
              "    </tr>\n",
              "  </tbody>\n",
              "</table>\n",
              "</div>"
            ],
            "text/plain": [
              "  PIMPF - Produção física industrial por grupos e classes industriais selecionados  ...                                         Unnamed: 7\n",
              "0                                Brasil - abril 2020                                ...                                                NaN\n",
              "1          Grupos e classes industriais selecionados                                ...                                                NaN\n",
              "2                                                NaN                                ...  Variação percentual acumulada nos últimos 12 m...\n",
              "3       10.1 Abate e fabricação de produtos de carne                                ...                                                3.2\n",
              "4                10.11 Abate de reses, exceto suínos                                ...                                               -1.5\n",
              "\n",
              "[5 rows x 8 columns]"
            ]
          },
          "metadata": {
            "tags": []
          },
          "execution_count": 12
        }
      ]
    },
    {
      "cell_type": "markdown",
      "metadata": {
        "id": "66pv6LNUjr1s",
        "colab_type": "text"
      },
      "source": [
        "**Vamos renomear as colunas**"
      ]
    },
    {
      "cell_type": "code",
      "metadata": {
        "id": "LgoGjzHvao98",
        "colab_type": "code",
        "colab": {}
      },
      "source": [
        "df= df.rename(columns={\"Unnamed: 1\": \"A\", \"Unnamed: 2\": \"B\",\"Unnamed: 3\": \"C\",\"Unnamed: 4\": \"D\",\"Unnamed: 5\": \"E\",\"Unnamed: 6\": \"F\",\"Unnamed: 7\": \"G\"})"
      ],
      "execution_count": 0,
      "outputs": []
    },
    {
      "cell_type": "code",
      "metadata": {
        "id": "pS0CnrprliKO",
        "colab_type": "code",
        "outputId": "3fd45c7e-aaa2-4193-b36f-9c0fc0f3a2a1",
        "colab": {
          "base_uri": "https://localhost:8080/",
          "height": 68
        }
      },
      "source": [
        "df.columns"
      ],
      "execution_count": 14,
      "outputs": [
        {
          "output_type": "execute_result",
          "data": {
            "text/plain": [
              "Index(['PIMPF - Produção física industrial por grupos e classes industriais selecionados',\n",
              "       'A', 'B', 'C', 'D', 'E', 'F', 'G'],\n",
              "      dtype='object')"
            ]
          },
          "metadata": {
            "tags": []
          },
          "execution_count": 14
        }
      ]
    },
    {
      "cell_type": "code",
      "metadata": {
        "id": "l0FvYHtlsXVP",
        "colab_type": "code",
        "outputId": "f782bec0-a05d-4b67-ea49-04e8d55c2d3c",
        "colab": {
          "base_uri": "https://localhost:8080/",
          "height": 272
        }
      },
      "source": [
        "df.info()"
      ],
      "execution_count": 15,
      "outputs": [
        {
          "output_type": "stream",
          "text": [
            "<class 'pandas.core.frame.DataFrame'>\n",
            "RangeIndex: 107 entries, 0 to 106\n",
            "Data columns (total 8 columns):\n",
            " #   Column                                                                            Non-Null Count  Dtype \n",
            "---  ------                                                                            --------------  ----- \n",
            " 0   PIMPF - Produção física industrial por grupos e classes industriais selecionados  106 non-null    object\n",
            " 1   A                                                                                 105 non-null    object\n",
            " 2   B                                                                                 104 non-null    object\n",
            " 3   C                                                                                 104 non-null    object\n",
            " 4   D                                                                                 104 non-null    object\n",
            " 5   E                                                                                 104 non-null    object\n",
            " 6   F                                                                                 104 non-null    object\n",
            " 7   G                                                                                 104 non-null    object\n",
            "dtypes: object(8)\n",
            "memory usage: 6.8+ KB\n"
          ],
          "name": "stdout"
        }
      ]
    },
    {
      "cell_type": "markdown",
      "metadata": {
        "id": "c19UCCuX-11y",
        "colab_type": "text"
      },
      "source": [
        "**Vamos eliminar algumas colunas desnecessarias**"
      ]
    },
    {
      "cell_type": "code",
      "metadata": {
        "id": "iLLoXF0ZxYNR",
        "colab_type": "code",
        "colab": {}
      },
      "source": [
        "df = df.drop(1)\n",
        "df = df.drop(2)\n"
      ],
      "execution_count": 0,
      "outputs": []
    },
    {
      "cell_type": "markdown",
      "metadata": {
        "id": "tVWDUMakkgBe",
        "colab_type": "text"
      },
      "source": [
        "**Redefinindo o index da base de dados**"
      ]
    },
    {
      "cell_type": "code",
      "metadata": {
        "id": "cVOzzmCJklYX",
        "colab_type": "code",
        "colab": {}
      },
      "source": [
        "df.set_index('PIMPF - Produção física industrial por grupos e classes industriais selecionados', inplace=True)"
      ],
      "execution_count": 0,
      "outputs": []
    },
    {
      "cell_type": "code",
      "metadata": {
        "id": "1-AdmieekwCm",
        "colab_type": "code",
        "outputId": "e9cde8a9-1bf1-4840-c0d0-f1bb69bd7809",
        "colab": {
          "base_uri": "https://localhost:8080/",
          "height": 452
        }
      },
      "source": [
        "df.head(12)"
      ],
      "execution_count": 18,
      "outputs": [
        {
          "output_type": "execute_result",
          "data": {
            "text/html": [
              "<div>\n",
              "<style scoped>\n",
              "    .dataframe tbody tr th:only-of-type {\n",
              "        vertical-align: middle;\n",
              "    }\n",
              "\n",
              "    .dataframe tbody tr th {\n",
              "        vertical-align: top;\n",
              "    }\n",
              "\n",
              "    .dataframe thead th {\n",
              "        text-align: right;\n",
              "    }\n",
              "</style>\n",
              "<table border=\"1\" class=\"dataframe\">\n",
              "  <thead>\n",
              "    <tr style=\"text-align: right;\">\n",
              "      <th></th>\n",
              "      <th>A</th>\n",
              "      <th>B</th>\n",
              "      <th>C</th>\n",
              "      <th>D</th>\n",
              "      <th>E</th>\n",
              "      <th>F</th>\n",
              "      <th>G</th>\n",
              "    </tr>\n",
              "    <tr>\n",
              "      <th>PIMPF - Produção física industrial por grupos e classes industriais selecionados</th>\n",
              "      <th></th>\n",
              "      <th></th>\n",
              "      <th></th>\n",
              "      <th></th>\n",
              "      <th></th>\n",
              "      <th></th>\n",
              "      <th></th>\n",
              "    </tr>\n",
              "  </thead>\n",
              "  <tbody>\n",
              "    <tr>\n",
              "      <th>Brasil - abril 2020</th>\n",
              "      <td>NaN</td>\n",
              "      <td>NaN</td>\n",
              "      <td>NaN</td>\n",
              "      <td>NaN</td>\n",
              "      <td>NaN</td>\n",
              "      <td>NaN</td>\n",
              "      <td>NaN</td>\n",
              "    </tr>\n",
              "    <tr>\n",
              "      <th>10.1 Abate e fabricação de produtos de carne</th>\n",
              "      <td>95.7</td>\n",
              "      <td>96.1</td>\n",
              "      <td>99.2</td>\n",
              "      <td>103.2</td>\n",
              "      <td>-3.9</td>\n",
              "      <td>-0.8</td>\n",
              "      <td>3.2</td>\n",
              "    </tr>\n",
              "    <tr>\n",
              "      <th>10.11 Abate de reses, exceto suínos</th>\n",
              "      <td>91.5</td>\n",
              "      <td>90</td>\n",
              "      <td>93.4</td>\n",
              "      <td>98.5</td>\n",
              "      <td>-10</td>\n",
              "      <td>-6.6</td>\n",
              "      <td>-1.5</td>\n",
              "    </tr>\n",
              "    <tr>\n",
              "      <th>10.12 Abate de suínos, aves e outros pequenos animais</th>\n",
              "      <td>97.9</td>\n",
              "      <td>102.4</td>\n",
              "      <td>105.4</td>\n",
              "      <td>108.1</td>\n",
              "      <td>2.4</td>\n",
              "      <td>5.4</td>\n",
              "      <td>8.1</td>\n",
              "    </tr>\n",
              "    <tr>\n",
              "      <th>10.13 Fabricação de produtos de carne</th>\n",
              "      <td>106.2</td>\n",
              "      <td>83.2</td>\n",
              "      <td>85</td>\n",
              "      <td>96</td>\n",
              "      <td>-16.8</td>\n",
              "      <td>-15</td>\n",
              "      <td>-4</td>\n",
              "    </tr>\n",
              "    <tr>\n",
              "      <th>10.3 Fabricação de conservas de frutas, legumes e outros vegetais</th>\n",
              "      <td>23.6</td>\n",
              "      <td>94.5</td>\n",
              "      <td>97.6</td>\n",
              "      <td>138.2</td>\n",
              "      <td>-5.5</td>\n",
              "      <td>-2.4</td>\n",
              "      <td>38.2</td>\n",
              "    </tr>\n",
              "    <tr>\n",
              "      <th>10.4 Fabricação de óleos e gorduras vegetais e animais</th>\n",
              "      <td>115.6</td>\n",
              "      <td>99.7</td>\n",
              "      <td>102.1</td>\n",
              "      <td>100.6</td>\n",
              "      <td>-0.3</td>\n",
              "      <td>2.1</td>\n",
              "      <td>0.6</td>\n",
              "    </tr>\n",
              "    <tr>\n",
              "      <th>10.41 Fabricação de óleos vegetais em bruto, exceto óleo de milho</th>\n",
              "      <td>126.2</td>\n",
              "      <td>100.5</td>\n",
              "      <td>102.4</td>\n",
              "      <td>100.8</td>\n",
              "      <td>0.5</td>\n",
              "      <td>2.4</td>\n",
              "      <td>0.8</td>\n",
              "    </tr>\n",
              "    <tr>\n",
              "      <th>10.42 Fabricação de óleos vegetais refinados, exceto óleo de milho</th>\n",
              "      <td>104.2</td>\n",
              "      <td>101.2</td>\n",
              "      <td>98.9</td>\n",
              "      <td>100.1</td>\n",
              "      <td>1.2</td>\n",
              "      <td>-1.1</td>\n",
              "      <td>0.1</td>\n",
              "    </tr>\n",
              "    <tr>\n",
              "      <th>10.43 Fabricação de margarina e outras gorduras vegetais e de óleos não-comestíveis de animais</th>\n",
              "      <td>78.8</td>\n",
              "      <td>93.5</td>\n",
              "      <td>103</td>\n",
              "      <td>99.6</td>\n",
              "      <td>-6.5</td>\n",
              "      <td>3</td>\n",
              "      <td>-0.4</td>\n",
              "    </tr>\n",
              "    <tr>\n",
              "      <th>10.5 Laticínios</th>\n",
              "      <td>76</td>\n",
              "      <td>89.3</td>\n",
              "      <td>86.9</td>\n",
              "      <td>93.3</td>\n",
              "      <td>-10.7</td>\n",
              "      <td>-13.1</td>\n",
              "      <td>-6.7</td>\n",
              "    </tr>\n",
              "    <tr>\n",
              "      <th>10.6 Moagem, fabricação de produtos amiláceos e de alimentos para animais</th>\n",
              "      <td>100</td>\n",
              "      <td>101.3</td>\n",
              "      <td>103.2</td>\n",
              "      <td>102.9</td>\n",
              "      <td>1.3</td>\n",
              "      <td>3.2</td>\n",
              "      <td>2.9</td>\n",
              "    </tr>\n",
              "  </tbody>\n",
              "</table>\n",
              "</div>"
            ],
            "text/plain": [
              "                                                        A      B  ...     F     G\n",
              "PIMPF - Produção física industrial por grupos e...                ...            \n",
              "Brasil - abril 2020                                   NaN    NaN  ...   NaN   NaN\n",
              "10.1 Abate e fabricação de produtos de carne         95.7   96.1  ...  -0.8   3.2\n",
              "10.11 Abate de reses, exceto suínos                  91.5     90  ...  -6.6  -1.5\n",
              "10.12 Abate de suínos, aves e outros pequenos a...   97.9  102.4  ...   5.4   8.1\n",
              "10.13 Fabricação de produtos de carne               106.2   83.2  ...   -15    -4\n",
              "10.3 Fabricação de conservas de frutas, legumes...   23.6   94.5  ...  -2.4  38.2\n",
              "10.4 Fabricação de óleos e gorduras vegetais e ...  115.6   99.7  ...   2.1   0.6\n",
              "10.41 Fabricação de óleos vegetais em bruto, ex...  126.2  100.5  ...   2.4   0.8\n",
              "10.42 Fabricação de óleos vegetais refinados, e...  104.2  101.2  ...  -1.1   0.1\n",
              "10.43 Fabricação de margarina e outras gorduras...   78.8   93.5  ...     3  -0.4\n",
              "10.5 Laticínios                                        76   89.3  ... -13.1  -6.7\n",
              "10.6 Moagem, fabricação de produtos amiláceos e...    100  101.3  ...   3.2   2.9\n",
              "\n",
              "[12 rows x 7 columns]"
            ]
          },
          "metadata": {
            "tags": []
          },
          "execution_count": 18
        }
      ]
    },
    {
      "cell_type": "markdown",
      "metadata": {
        "id": "v6lhRMpHrDm8",
        "colab_type": "text"
      },
      "source": [
        "**Verificando se existem linhas com valores duplicados**"
      ]
    },
    {
      "cell_type": "code",
      "metadata": {
        "id": "LbOBjb_XmPsM",
        "colab_type": "code",
        "outputId": "5780faf7-ebf0-4784-ae74-3e2b3b00d93e",
        "colab": {
          "base_uri": "https://localhost:8080/",
          "height": 238
        }
      },
      "source": [
        "df.duplicated()"
      ],
      "execution_count": 19,
      "outputs": [
        {
          "output_type": "execute_result",
          "data": {
            "text/plain": [
              "PIMPF - Produção física industrial por grupos e classes industriais selecionados\n",
              "Brasil - abril 2020                                                                                False\n",
              "10.1 Abate e fabricação de produtos de carne                                                       False\n",
              "10.11 Abate de reses, exceto suínos                                                                False\n",
              "10.12 Abate de suínos, aves e outros pequenos animais                                              False\n",
              "10.13 Fabricação de produtos de carne                                                              False\n",
              "                                                                                                   ...  \n",
              "32.3 Fabricação de artefatos para pesca e esporte                                                  False\n",
              "32.4 Fabricação de brinquedos e jogos recreativos                                                  False\n",
              "32.5 Fabricação de instrumentos e materiais para uso médico e odontológico e de artigos ópticos    False\n",
              "32.9 Fabricação de produtos diversos                                                               False\n",
              "Fonte: IBGE - Pesquisa Industrial Mensal - Produção Física abril 2020.                              True\n",
              "Length: 105, dtype: bool"
            ]
          },
          "metadata": {
            "tags": []
          },
          "execution_count": 19
        }
      ]
    },
    {
      "cell_type": "code",
      "metadata": {
        "id": "gbUw5oIJp_NH",
        "colab_type": "code",
        "colab": {}
      },
      "source": [
        "df.drop_duplicates(inplace= True)"
      ],
      "execution_count": 0,
      "outputs": []
    },
    {
      "cell_type": "code",
      "metadata": {
        "id": "n_JG6qqZqg-a",
        "colab_type": "code",
        "outputId": "15cb5a1a-536b-43f0-820d-511530778226",
        "colab": {
          "base_uri": "https://localhost:8080/",
          "height": 238
        }
      },
      "source": [
        "df.duplicated()"
      ],
      "execution_count": 21,
      "outputs": [
        {
          "output_type": "execute_result",
          "data": {
            "text/plain": [
              "PIMPF - Produção física industrial por grupos e classes industriais selecionados\n",
              "Brasil - abril 2020                                                                                False\n",
              "10.1 Abate e fabricação de produtos de carne                                                       False\n",
              "10.11 Abate de reses, exceto suínos                                                                False\n",
              "10.12 Abate de suínos, aves e outros pequenos animais                                              False\n",
              "10.13 Fabricação de produtos de carne                                                              False\n",
              "                                                                                                   ...  \n",
              "32.1 Fabricação de artigos de joalheria, bijuteria e semelhantes                                   False\n",
              "32.3 Fabricação de artefatos para pesca e esporte                                                  False\n",
              "32.4 Fabricação de brinquedos e jogos recreativos                                                  False\n",
              "32.5 Fabricação de instrumentos e materiais para uso médico e odontológico e de artigos ópticos    False\n",
              "32.9 Fabricação de produtos diversos                                                               False\n",
              "Length: 104, dtype: bool"
            ]
          },
          "metadata": {
            "tags": []
          },
          "execution_count": 21
        }
      ]
    },
    {
      "cell_type": "markdown",
      "metadata": {
        "id": "FVgvwBu_uSPb",
        "colab_type": "text"
      },
      "source": [
        "**Verificando valores nullos**"
      ]
    },
    {
      "cell_type": "code",
      "metadata": {
        "id": "xTr53ar7uW16",
        "colab_type": "code",
        "outputId": "9e0ed641-ac13-481b-9dc5-8947fad0c55b",
        "colab": {
          "base_uri": "https://localhost:8080/",
          "height": 153
        }
      },
      "source": [
        "df.isnull().sum()"
      ],
      "execution_count": 22,
      "outputs": [
        {
          "output_type": "execute_result",
          "data": {
            "text/plain": [
              "A    1\n",
              "B    1\n",
              "C    1\n",
              "D    1\n",
              "E    1\n",
              "F    1\n",
              "G    1\n",
              "dtype: int64"
            ]
          },
          "metadata": {
            "tags": []
          },
          "execution_count": 22
        }
      ]
    },
    {
      "cell_type": "markdown",
      "metadata": {
        "id": "GJtulVkpzQpU",
        "colab_type": "text"
      },
      "source": [
        "**Calculando a media de cada variavel do dataframe**"
      ]
    },
    {
      "cell_type": "code",
      "metadata": {
        "id": "V_zgov2cy9_y",
        "colab_type": "code",
        "outputId": "6499e037-b2a6-4340-f4aa-475cd104f4d1",
        "colab": {
          "base_uri": "https://localhost:8080/",
          "height": 153
        }
      },
      "source": [
        "df.mean()"
      ],
      "execution_count": 23,
      "outputs": [
        {
          "output_type": "execute_result",
          "data": {
            "text/plain": [
              "A    61.301942\n",
              "B    70.518447\n",
              "C    91.794175\n",
              "D    98.068932\n",
              "E   -29.481553\n",
              "F    -8.205825\n",
              "G    -1.931068\n",
              "dtype: float64"
            ]
          },
          "metadata": {
            "tags": []
          },
          "execution_count": 23
        }
      ]
    },
    {
      "cell_type": "markdown",
      "metadata": {
        "id": "TmFdr7a0QCCz",
        "colab_type": "text"
      },
      "source": [
        "**preenchendo os valores nulos**"
      ]
    },
    {
      "cell_type": "code",
      "metadata": {
        "id": "52ixtawnzdog",
        "colab_type": "code",
        "colab": {}
      },
      "source": [
        "df = df.fillna(df.mean())"
      ],
      "execution_count": 0,
      "outputs": []
    },
    {
      "cell_type": "code",
      "metadata": {
        "id": "LcCugN9w1K4q",
        "colab_type": "code",
        "outputId": "9329f7a6-4f24-423a-8c2e-6fcadbf38692",
        "colab": {
          "base_uri": "https://localhost:8080/",
          "height": 467
        }
      },
      "source": [
        "df"
      ],
      "execution_count": 25,
      "outputs": [
        {
          "output_type": "execute_result",
          "data": {
            "text/html": [
              "<div>\n",
              "<style scoped>\n",
              "    .dataframe tbody tr th:only-of-type {\n",
              "        vertical-align: middle;\n",
              "    }\n",
              "\n",
              "    .dataframe tbody tr th {\n",
              "        vertical-align: top;\n",
              "    }\n",
              "\n",
              "    .dataframe thead th {\n",
              "        text-align: right;\n",
              "    }\n",
              "</style>\n",
              "<table border=\"1\" class=\"dataframe\">\n",
              "  <thead>\n",
              "    <tr style=\"text-align: right;\">\n",
              "      <th></th>\n",
              "      <th>A</th>\n",
              "      <th>B</th>\n",
              "      <th>C</th>\n",
              "      <th>D</th>\n",
              "      <th>E</th>\n",
              "      <th>F</th>\n",
              "      <th>G</th>\n",
              "    </tr>\n",
              "    <tr>\n",
              "      <th>PIMPF - Produção física industrial por grupos e classes industriais selecionados</th>\n",
              "      <th></th>\n",
              "      <th></th>\n",
              "      <th></th>\n",
              "      <th></th>\n",
              "      <th></th>\n",
              "      <th></th>\n",
              "      <th></th>\n",
              "    </tr>\n",
              "  </thead>\n",
              "  <tbody>\n",
              "    <tr>\n",
              "      <th>Brasil - abril 2020</th>\n",
              "      <td>61.301942</td>\n",
              "      <td>70.518447</td>\n",
              "      <td>91.794175</td>\n",
              "      <td>98.068932</td>\n",
              "      <td>-29.481553</td>\n",
              "      <td>-8.205825</td>\n",
              "      <td>-1.931068</td>\n",
              "    </tr>\n",
              "    <tr>\n",
              "      <th>10.1 Abate e fabricação de produtos de carne</th>\n",
              "      <td>95.700000</td>\n",
              "      <td>96.100000</td>\n",
              "      <td>99.200000</td>\n",
              "      <td>103.200000</td>\n",
              "      <td>-3.900000</td>\n",
              "      <td>-0.800000</td>\n",
              "      <td>3.200000</td>\n",
              "    </tr>\n",
              "    <tr>\n",
              "      <th>10.11 Abate de reses, exceto suínos</th>\n",
              "      <td>91.500000</td>\n",
              "      <td>90.000000</td>\n",
              "      <td>93.400000</td>\n",
              "      <td>98.500000</td>\n",
              "      <td>-10.000000</td>\n",
              "      <td>-6.600000</td>\n",
              "      <td>-1.500000</td>\n",
              "    </tr>\n",
              "    <tr>\n",
              "      <th>10.12 Abate de suínos, aves e outros pequenos animais</th>\n",
              "      <td>97.900000</td>\n",
              "      <td>102.400000</td>\n",
              "      <td>105.400000</td>\n",
              "      <td>108.100000</td>\n",
              "      <td>2.400000</td>\n",
              "      <td>5.400000</td>\n",
              "      <td>8.100000</td>\n",
              "    </tr>\n",
              "    <tr>\n",
              "      <th>10.13 Fabricação de produtos de carne</th>\n",
              "      <td>106.200000</td>\n",
              "      <td>83.200000</td>\n",
              "      <td>85.000000</td>\n",
              "      <td>96.000000</td>\n",
              "      <td>-16.800000</td>\n",
              "      <td>-15.000000</td>\n",
              "      <td>-4.000000</td>\n",
              "    </tr>\n",
              "    <tr>\n",
              "      <th>...</th>\n",
              "      <td>...</td>\n",
              "      <td>...</td>\n",
              "      <td>...</td>\n",
              "      <td>...</td>\n",
              "      <td>...</td>\n",
              "      <td>...</td>\n",
              "      <td>...</td>\n",
              "    </tr>\n",
              "    <tr>\n",
              "      <th>32.1 Fabricação de artigos de joalheria, bijuteria e semelhantes</th>\n",
              "      <td>24.900000</td>\n",
              "      <td>21.400000</td>\n",
              "      <td>49.000000</td>\n",
              "      <td>79.400000</td>\n",
              "      <td>-78.600000</td>\n",
              "      <td>-51.000000</td>\n",
              "      <td>-20.600000</td>\n",
              "    </tr>\n",
              "    <tr>\n",
              "      <th>32.3 Fabricação de artefatos para pesca e esporte</th>\n",
              "      <td>23.800000</td>\n",
              "      <td>76.800000</td>\n",
              "      <td>87.300000</td>\n",
              "      <td>115.300000</td>\n",
              "      <td>-23.200000</td>\n",
              "      <td>-12.700000</td>\n",
              "      <td>15.300000</td>\n",
              "    </tr>\n",
              "    <tr>\n",
              "      <th>32.4 Fabricação de brinquedos e jogos recreativos</th>\n",
              "      <td>18.400000</td>\n",
              "      <td>32.300000</td>\n",
              "      <td>92.000000</td>\n",
              "      <td>99.100000</td>\n",
              "      <td>-67.700000</td>\n",
              "      <td>-8.000000</td>\n",
              "      <td>-0.900000</td>\n",
              "    </tr>\n",
              "    <tr>\n",
              "      <th>32.5 Fabricação de instrumentos e materiais para uso médico e odontológico e de artigos ópticos</th>\n",
              "      <td>54.000000</td>\n",
              "      <td>47.500000</td>\n",
              "      <td>82.600000</td>\n",
              "      <td>96.900000</td>\n",
              "      <td>-52.500000</td>\n",
              "      <td>-17.400000</td>\n",
              "      <td>-3.100000</td>\n",
              "    </tr>\n",
              "    <tr>\n",
              "      <th>32.9 Fabricação de produtos diversos</th>\n",
              "      <td>70.300000</td>\n",
              "      <td>74.200000</td>\n",
              "      <td>95.600000</td>\n",
              "      <td>99.700000</td>\n",
              "      <td>-25.800000</td>\n",
              "      <td>-4.400000</td>\n",
              "      <td>-0.300000</td>\n",
              "    </tr>\n",
              "  </tbody>\n",
              "</table>\n",
              "<p>104 rows × 7 columns</p>\n",
              "</div>"
            ],
            "text/plain": [
              "                                                             A  ...          G\n",
              "PIMPF - Produção física industrial por grupos e...              ...           \n",
              "Brasil - abril 2020                                  61.301942  ...  -1.931068\n",
              "10.1 Abate e fabricação de produtos de carne         95.700000  ...   3.200000\n",
              "10.11 Abate de reses, exceto suínos                  91.500000  ...  -1.500000\n",
              "10.12 Abate de suínos, aves e outros pequenos a...   97.900000  ...   8.100000\n",
              "10.13 Fabricação de produtos de carne               106.200000  ...  -4.000000\n",
              "...                                                        ...  ...        ...\n",
              "32.1 Fabricação de artigos de joalheria, bijute...   24.900000  ... -20.600000\n",
              "32.3 Fabricação de artefatos para pesca e esporte    23.800000  ...  15.300000\n",
              "32.4 Fabricação de brinquedos e jogos recreativos    18.400000  ...  -0.900000\n",
              "32.5 Fabricação de instrumentos e materiais par...   54.000000  ...  -3.100000\n",
              "32.9 Fabricação de produtos diversos                 70.300000  ...  -0.300000\n",
              "\n",
              "[104 rows x 7 columns]"
            ]
          },
          "metadata": {
            "tags": []
          },
          "execution_count": 25
        }
      ]
    },
    {
      "cell_type": "markdown",
      "metadata": {
        "id": "oiBj08Q3hu0Q",
        "colab_type": "text"
      },
      "source": [
        "# Separando as variaveis preditivas e a variavel alvo"
      ]
    },
    {
      "cell_type": "markdown",
      "metadata": {
        "id": "o6rFb_lvjSbj",
        "colab_type": "text"
      },
      "source": [
        "Nosso objetivo é prever os dados da coluna'G'"
      ]
    },
    {
      "cell_type": "code",
      "metadata": {
        "id": "6HIlit3SiFKQ",
        "colab_type": "code",
        "colab": {}
      },
      "source": [
        "x = df.drop(['G'], axis=1)\n",
        "y = df['G']\n"
      ],
      "execution_count": 0,
      "outputs": []
    },
    {
      "cell_type": "markdown",
      "metadata": {
        "id": "Jz-V6yNCUu4T",
        "colab_type": "text"
      },
      "source": [
        "# Selection Features"
      ]
    },
    {
      "cell_type": "markdown",
      "metadata": {
        "id": "9L5cKiQLWmI-",
        "colab_type": "text"
      },
      "source": [
        "**Testes estatisticos**\n",
        "\n",
        "\n",
        "*   Usado para problema de classificaçao.\n",
        "*   f_classif é adequado quando os dados sao numericos e a variavel alvo é categorica.\n",
        "\n",
        "\n",
        "*   o mutual_info_classif é mais adequada quando quando nao há dependencia linear entre as features e a variável alvo.\n",
        "*   f_regression aplicado para problemas de regressao.\n",
        "\n",
        "\n",
        "\n"
      ]
    },
    {
      "cell_type": "code",
      "metadata": {
        "id": "sypzG5QmeyBl",
        "colab_type": "code",
        "outputId": "2dced1d8-83ea-4cb9-892c-fb399f6ace7b",
        "colab": {
          "base_uri": "https://localhost:8080/",
          "height": 85
        }
      },
      "source": [
        "!pip install scikit-learn"
      ],
      "execution_count": 27,
      "outputs": [
        {
          "output_type": "stream",
          "text": [
            "Requirement already satisfied: scikit-learn in /usr/local/lib/python3.6/dist-packages (0.22.2.post1)\n",
            "Requirement already satisfied: numpy>=1.11.0 in /usr/local/lib/python3.6/dist-packages (from scikit-learn) (1.18.5)\n",
            "Requirement already satisfied: scipy>=0.17.0 in /usr/local/lib/python3.6/dist-packages (from scikit-learn) (1.4.1)\n",
            "Requirement already satisfied: joblib>=0.11 in /usr/local/lib/python3.6/dist-packages (from scikit-learn) (0.15.1)\n"
          ],
          "name": "stdout"
        }
      ]
    },
    {
      "cell_type": "code",
      "metadata": {
        "id": "cqDEx93NZ3yJ",
        "colab_type": "code",
        "outputId": "18317866-5f4b-4a9a-c9ba-e335b11c7808",
        "colab": {
          "base_uri": "https://localhost:8080/",
          "height": 258
        }
      },
      "source": [
        "!pip install feature-selector "
      ],
      "execution_count": 34,
      "outputs": [
        {
          "output_type": "stream",
          "text": [
            "Requirement already satisfied: feature-selector in /usr/local/lib/python3.6/dist-packages (1.0.0)\n",
            "Requirement already satisfied: matplotlib==2.1.2 in /usr/local/lib/python3.6/dist-packages (from feature-selector) (2.1.2)\n",
            "Requirement already satisfied: scikit-learn==0.19.1 in /usr/local/lib/python3.6/dist-packages (from feature-selector) (0.19.1)\n",
            "Requirement already satisfied: lightgbm==2.1.1 in /usr/local/lib/python3.6/dist-packages (from feature-selector) (2.1.1)\n",
            "Requirement already satisfied: numpy==1.14.5 in /usr/local/lib/python3.6/dist-packages (from feature-selector) (1.14.5)\n",
            "Requirement already satisfied: seaborn==0.8.1 in /usr/local/lib/python3.6/dist-packages (from feature-selector) (0.8.1)\n",
            "Requirement already satisfied: pandas==0.23.1 in /usr/local/lib/python3.6/dist-packages (from feature-selector) (0.23.1)\n",
            "Requirement already satisfied: cycler>=0.10 in /usr/local/lib/python3.6/dist-packages (from matplotlib==2.1.2->feature-selector) (0.10.0)\n",
            "Requirement already satisfied: python-dateutil>=2.1 in /usr/local/lib/python3.6/dist-packages (from matplotlib==2.1.2->feature-selector) (2.8.1)\n",
            "Requirement already satisfied: pytz in /usr/local/lib/python3.6/dist-packages (from matplotlib==2.1.2->feature-selector) (2018.9)\n",
            "Requirement already satisfied: six>=1.10 in /usr/local/lib/python3.6/dist-packages (from matplotlib==2.1.2->feature-selector) (1.12.0)\n",
            "Requirement already satisfied: pyparsing!=2.0.4,!=2.1.2,!=2.1.6,>=2.0.1 in /usr/local/lib/python3.6/dist-packages (from matplotlib==2.1.2->feature-selector) (2.4.7)\n",
            "Requirement already satisfied: scipy in /usr/local/lib/python3.6/dist-packages (from lightgbm==2.1.1->feature-selector) (1.4.1)\n"
          ],
          "name": "stdout"
        }
      ]
    },
    {
      "cell_type": "code",
      "metadata": {
        "id": "e0a2ZccRU2b5",
        "colab_type": "code",
        "colab": {}
      },
      "source": [
        "from sklearn.feature_selection import SelectKBest\n",
        "from sklearn.feature_selection import f_classif, mutual_info_classif"
      ],
      "execution_count": 0,
      "outputs": []
    },
    {
      "cell_type": "markdown",
      "metadata": {
        "id": "wo0RcpRawI9r",
        "colab_type": "text"
      },
      "source": [
        "**utilisando o test unitario**"
      ]
    },
    {
      "cell_type": "code",
      "metadata": {
        "id": "xv9wJ5Pfl3hJ",
        "colab_type": "code",
        "outputId": "a303df02-af1c-48dc-c959-477be97fde5d",
        "colab": {
          "base_uri": "https://localhost:8080/",
          "height": 1000
        }
      },
      "source": [
        "f_classif = SelectKBest (score_func = f_classif,k=4)\n",
        "fit = f_classif.fit(x,y)\n",
        "features = fit.transform(x) \n",
        "print(features)"
      ],
      "execution_count": 30,
      "outputs": [
        {
          "output_type": "stream",
          "text": [
            "[[ 7.05184466e+01  9.17941748e+01 -2.94815534e+01 -8.20582524e+00]\n",
            " [ 9.61000000e+01  9.92000000e+01 -3.90000000e+00 -8.00000000e-01]\n",
            " [ 9.00000000e+01  9.34000000e+01 -1.00000000e+01 -6.60000000e+00]\n",
            " [ 1.02400000e+02  1.05400000e+02  2.40000000e+00  5.40000000e+00]\n",
            " [ 8.32000000e+01  8.50000000e+01 -1.68000000e+01 -1.50000000e+01]\n",
            " [ 9.45000000e+01  9.76000000e+01 -5.50000000e+00 -2.40000000e+00]\n",
            " [ 9.97000000e+01  1.02100000e+02 -3.00000000e-01  2.10000000e+00]\n",
            " [ 1.00500000e+02  1.02400000e+02  5.00000000e-01  2.40000000e+00]\n",
            " [ 1.01200000e+02  9.89000000e+01  1.20000000e+00 -1.10000000e+00]\n",
            " [ 9.35000000e+01  1.03000000e+02 -6.50000000e+00  3.00000000e+00]\n",
            " [ 8.93000000e+01  8.69000000e+01 -1.07000000e+01 -1.31000000e+01]\n",
            " [ 1.01300000e+02  1.03200000e+02  1.30000000e+00  3.20000000e+00]\n",
            " [ 1.10500000e+02  1.05800000e+02  1.05000000e+01  5.80000000e+00]\n",
            " [ 9.38000000e+01  1.01100000e+02 -6.20000000e+00  1.10000000e+00]\n",
            " [ 1.79200000e+02  1.54500000e+02  7.92000000e+01  5.45000000e+01]\n",
            " [ 9.50000000e+01  1.04700000e+02 -5.00000000e+00  4.70000000e+00]\n",
            " [ 9.04000000e+01  1.02100000e+02 -9.60000000e+00  2.10000000e+00]\n",
            " [ 4.09000000e+01  8.24000000e+01 -5.91000000e+01 -1.76000000e+01]\n",
            " [ 5.93000000e+01  8.74000000e+01 -4.07000000e+01 -1.26000000e+01]\n",
            " [ 6.70000000e+01  9.34000000e+01 -3.30000000e+01 -6.60000000e+00]\n",
            " [ 4.71000000e+01  8.51000000e+01 -5.29000000e+01 -1.49000000e+01]\n",
            " [ 3.08000000e+01  8.33000000e+01 -6.92000000e+01 -1.67000000e+01]\n",
            " [ 4.41000000e+01  8.17000000e+01 -5.59000000e+01 -1.83000000e+01]\n",
            " [ 3.59000000e+01  7.40000000e+01 -6.41000000e+01 -2.60000000e+01]\n",
            " [ 1.56000000e+01  7.04000000e+01 -8.44000000e+01 -2.96000000e+01]\n",
            " [ 6.42000000e+01  8.77000000e+01 -3.58000000e+01 -1.23000000e+01]\n",
            " [ 2.55000000e+01  7.24000000e+01 -7.45000000e+01 -2.76000000e+01]\n",
            " [ 8.80000000e+01  9.57000000e+01 -1.20000000e+01 -4.30000000e+00]\n",
            " [ 6.52000000e+01  8.49000000e+01 -3.48000000e+01 -1.51000000e+01]\n",
            " [ 1.05500000e+02  1.05500000e+02  5.50000000e+00  5.50000000e+00]\n",
            " [ 9.52000000e+01  1.00300000e+02 -4.80000000e+00  3.00000000e-01]\n",
            " [ 9.70000000e+01  9.95000000e+01 -3.00000000e+00 -5.00000000e-01]\n",
            " [ 1.05700000e+02  1.03700000e+02  5.70000000e+00  3.70000000e+00]\n",
            " [ 5.79000000e+01  7.06000000e+01 -4.21000000e+01 -2.94000000e+01]\n",
            " [ 7.04000000e+01  1.12000000e+02 -2.96000000e+01  1.20000000e+01]\n",
            " [ 8.80000000e+01  1.05400000e+02 -1.20000000e+01  5.40000000e+00]\n",
            " [ 1.09600000e+02  1.11400000e+02  9.60000000e+00  1.14000000e+01]\n",
            " [ 9.72000000e+01  1.00800000e+02 -2.80000000e+00  8.00000000e-01]\n",
            " [ 8.62000000e+01  8.64000000e+01 -1.38000000e+01 -1.36000000e+01]\n",
            " [ 1.18000000e+02  9.74000000e+01  1.80000000e+01 -2.60000000e+00]\n",
            " [ 1.07400000e+02  1.13500000e+02  7.40000000e+00  1.35000000e+01]\n",
            " [ 8.44000000e+01  9.37000000e+01 -1.56000000e+01 -6.30000000e+00]\n",
            " [ 7.12000000e+01  9.00000000e+01 -2.88000000e+01 -1.00000000e+01]\n",
            " [ 7.63000000e+01  9.26000000e+01 -2.37000000e+01 -7.40000000e+00]\n",
            " [ 1.17900000e+02  1.02200000e+02  1.79000000e+01  2.20000000e+00]\n",
            " [ 1.04900000e+02  1.01700000e+02  4.90000000e+00  1.70000000e+00]\n",
            " [ 1.06800000e+02  9.97000000e+01  6.80000000e+00 -3.00000000e-01]\n",
            " [ 1.22000000e+02  1.08700000e+02  2.20000000e+01  8.70000000e+00]\n",
            " [ 9.50000000e+01  1.03600000e+02 -5.00000000e+00  3.60000000e+00]\n",
            " [ 5.84000000e+01  9.18000000e+01 -4.16000000e+01 -8.20000000e+00]\n",
            " [ 9.60000000e+01  1.04300000e+02 -4.00000000e+00  4.30000000e+00]\n",
            " [ 4.55000000e+01  8.09000000e+01 -5.45000000e+01 -1.91000000e+01]\n",
            " [ 3.91000000e+01  7.92000000e+01 -6.09000000e+01 -2.08000000e+01]\n",
            " [ 7.66000000e+01  9.57000000e+01 -2.34000000e+01 -4.30000000e+00]\n",
            " [ 9.29000000e+01  1.01000000e+02 -7.10000000e+00  1.00000000e+00]\n",
            " [ 9.68000000e+01  1.01700000e+02 -3.20000000e+00  1.70000000e+00]\n",
            " [ 5.77000000e+01  9.44000000e+01 -4.23000000e+01 -5.60000000e+00]\n",
            " [ 4.76000000e+01  8.42000000e+01 -5.24000000e+01 -1.58000000e+01]\n",
            " [ 1.80000000e+01  7.39000000e+01 -8.20000000e+01 -2.61000000e+01]\n",
            " [ 9.26000000e+01  9.79000000e+01 -7.40000000e+00 -2.10000000e+00]\n",
            " [ 7.93000000e+01  9.17000000e+01 -2.07000000e+01 -8.30000000e+00]\n",
            " [ 3.13000000e+01  7.40000000e+01 -6.87000000e+01 -2.60000000e+01]\n",
            " [ 7.96000000e+01  9.35000000e+01 -2.04000000e+01 -6.50000000e+00]\n",
            " [ 7.26000000e+01  8.48000000e+01 -2.74000000e+01 -1.52000000e+01]\n",
            " [ 6.44000000e+01  9.06000000e+01 -3.56000000e+01 -9.40000000e+00]\n",
            " [ 5.30000000e+01  8.96000000e+01 -4.70000000e+01 -1.04000000e+01]\n",
            " [ 7.73000000e+01  9.28000000e+01 -2.27000000e+01 -7.20000000e+00]\n",
            " [ 4.98000000e+01  8.20000000e+01 -5.02000000e+01 -1.80000000e+01]\n",
            " [ 8.18000000e+01  9.02000000e+01 -1.82000000e+01 -9.80000000e+00]\n",
            " [ 9.17000000e+01  1.09000000e+02 -8.30000000e+00  9.00000000e+00]\n",
            " [ 4.93000000e+01  9.22000000e+01 -5.07000000e+01 -7.80000000e+00]\n",
            " [ 6.63000000e+01  8.50000000e+01 -3.37000000e+01 -1.50000000e+01]\n",
            " [ 5.94000000e+01  8.85000000e+01 -4.06000000e+01 -1.15000000e+01]\n",
            " [ 6.40000000e+01  8.92000000e+01 -3.60000000e+01 -1.08000000e+01]\n",
            " [ 5.04000000e+01  8.64000000e+01 -4.96000000e+01 -1.36000000e+01]\n",
            " [ 7.12000000e+01  1.14200000e+02 -2.88000000e+01  1.42000000e+01]\n",
            " [ 5.97000000e+01  9.19000000e+01 -4.03000000e+01 -8.10000000e+00]\n",
            " [ 5.43000000e+01  7.61000000e+01 -4.57000000e+01 -2.39000000e+01]\n",
            " [ 5.06000000e+01  8.51000000e+01 -4.94000000e+01 -1.49000000e+01]\n",
            " [ 6.95000000e+01  9.46000000e+01 -3.05000000e+01 -5.40000000e+00]\n",
            " [ 6.98000000e+01  9.01000000e+01 -3.02000000e+01 -9.90000000e+00]\n",
            " [ 5.79000000e+01  8.56000000e+01 -4.21000000e+01 -1.44000000e+01]\n",
            " [ 7.96000000e+01  9.51000000e+01 -2.04000000e+01 -4.90000000e+00]\n",
            " [ 5.18000000e+01  7.99000000e+01 -4.82000000e+01 -2.01000000e+01]\n",
            " [ 2.96000000e+01  8.63000000e+01 -7.04000000e+01 -1.37000000e+01]\n",
            " [ 2.48000000e+01  8.72000000e+01 -7.52000000e+01 -1.28000000e+01]\n",
            " [ 4.11000000e+01  8.42000000e+01 -5.89000000e+01 -1.58000000e+01]\n",
            " [ 8.30000000e+01  8.54000000e+01 -1.70000000e+01 -1.46000000e+01]\n",
            " [ 4.90000000e+01  8.12000000e+01 -5.10000000e+01 -1.88000000e+01]\n",
            " [ 5.38000000e+01  9.04000000e+01 -4.62000000e+01 -9.60000000e+00]\n",
            " [ 7.32000000e+01  9.10000000e+01 -2.68000000e+01 -9.00000000e+00]\n",
            " [ 5.19000000e+01  7.83000000e+01 -4.81000000e+01 -2.17000000e+01]\n",
            " [ 6.70000000e+01  8.84000000e+01 -3.30000000e+01 -1.16000000e+01]\n",
            " [ 6.22000000e+01  1.08100000e+02 -3.78000000e+01  8.10000000e+00]\n",
            " [ 1.00000000e-01  6.11000000e+01 -9.99000000e+01 -3.89000000e+01]\n",
            " [ 6.60000000e+00  7.62000000e+01 -9.34000000e+01 -2.38000000e+01]\n",
            " [ 3.39000000e+01  7.76000000e+01 -6.61000000e+01 -2.24000000e+01]\n",
            " [ 1.62000000e+01  7.12000000e+01 -8.38000000e+01 -2.88000000e+01]\n",
            " [ 4.22000000e+01  8.22000000e+01 -5.78000000e+01 -1.78000000e+01]\n",
            " [ 2.14000000e+01  4.90000000e+01 -7.86000000e+01 -5.10000000e+01]\n",
            " [ 7.68000000e+01  8.73000000e+01 -2.32000000e+01 -1.27000000e+01]\n",
            " [ 3.23000000e+01  9.20000000e+01 -6.77000000e+01 -8.00000000e+00]\n",
            " [ 4.75000000e+01  8.26000000e+01 -5.25000000e+01 -1.74000000e+01]\n",
            " [ 7.42000000e+01  9.56000000e+01 -2.58000000e+01 -4.40000000e+00]]\n"
          ],
          "name": "stdout"
        }
      ]
    },
    {
      "cell_type": "code",
      "metadata": {
        "id": "cMPVZHmbqDj5",
        "colab_type": "code",
        "outputId": "d14ba4f6-2220-4344-83e1-4a01e1f5fc93",
        "colab": {
          "base_uri": "https://localhost:8080/",
          "height": 450
        }
      },
      "source": [
        "cols = fit.get_support(indices=True)\n",
        "df.iloc[:,cols]"
      ],
      "execution_count": 31,
      "outputs": [
        {
          "output_type": "execute_result",
          "data": {
            "text/html": [
              "<div>\n",
              "<style scoped>\n",
              "    .dataframe tbody tr th:only-of-type {\n",
              "        vertical-align: middle;\n",
              "    }\n",
              "\n",
              "    .dataframe tbody tr th {\n",
              "        vertical-align: top;\n",
              "    }\n",
              "\n",
              "    .dataframe thead th {\n",
              "        text-align: right;\n",
              "    }\n",
              "</style>\n",
              "<table border=\"1\" class=\"dataframe\">\n",
              "  <thead>\n",
              "    <tr style=\"text-align: right;\">\n",
              "      <th></th>\n",
              "      <th>B</th>\n",
              "      <th>C</th>\n",
              "      <th>E</th>\n",
              "      <th>F</th>\n",
              "    </tr>\n",
              "    <tr>\n",
              "      <th>PIMPF - Produção física industrial por grupos e classes industriais selecionados</th>\n",
              "      <th></th>\n",
              "      <th></th>\n",
              "      <th></th>\n",
              "      <th></th>\n",
              "    </tr>\n",
              "  </thead>\n",
              "  <tbody>\n",
              "    <tr>\n",
              "      <th>Brasil - abril 2020</th>\n",
              "      <td>70.518447</td>\n",
              "      <td>91.794175</td>\n",
              "      <td>-29.481553</td>\n",
              "      <td>-8.205825</td>\n",
              "    </tr>\n",
              "    <tr>\n",
              "      <th>10.1 Abate e fabricação de produtos de carne</th>\n",
              "      <td>96.100000</td>\n",
              "      <td>99.200000</td>\n",
              "      <td>-3.900000</td>\n",
              "      <td>-0.800000</td>\n",
              "    </tr>\n",
              "    <tr>\n",
              "      <th>10.11 Abate de reses, exceto suínos</th>\n",
              "      <td>90.000000</td>\n",
              "      <td>93.400000</td>\n",
              "      <td>-10.000000</td>\n",
              "      <td>-6.600000</td>\n",
              "    </tr>\n",
              "    <tr>\n",
              "      <th>10.12 Abate de suínos, aves e outros pequenos animais</th>\n",
              "      <td>102.400000</td>\n",
              "      <td>105.400000</td>\n",
              "      <td>2.400000</td>\n",
              "      <td>5.400000</td>\n",
              "    </tr>\n",
              "    <tr>\n",
              "      <th>10.13 Fabricação de produtos de carne</th>\n",
              "      <td>83.200000</td>\n",
              "      <td>85.000000</td>\n",
              "      <td>-16.800000</td>\n",
              "      <td>-15.000000</td>\n",
              "    </tr>\n",
              "    <tr>\n",
              "      <th>...</th>\n",
              "      <td>...</td>\n",
              "      <td>...</td>\n",
              "      <td>...</td>\n",
              "      <td>...</td>\n",
              "    </tr>\n",
              "    <tr>\n",
              "      <th>32.1 Fabricação de artigos de joalheria, bijuteria e semelhantes</th>\n",
              "      <td>21.400000</td>\n",
              "      <td>49.000000</td>\n",
              "      <td>-78.600000</td>\n",
              "      <td>-51.000000</td>\n",
              "    </tr>\n",
              "    <tr>\n",
              "      <th>32.3 Fabricação de artefatos para pesca e esporte</th>\n",
              "      <td>76.800000</td>\n",
              "      <td>87.300000</td>\n",
              "      <td>-23.200000</td>\n",
              "      <td>-12.700000</td>\n",
              "    </tr>\n",
              "    <tr>\n",
              "      <th>32.4 Fabricação de brinquedos e jogos recreativos</th>\n",
              "      <td>32.300000</td>\n",
              "      <td>92.000000</td>\n",
              "      <td>-67.700000</td>\n",
              "      <td>-8.000000</td>\n",
              "    </tr>\n",
              "    <tr>\n",
              "      <th>32.5 Fabricação de instrumentos e materiais para uso médico e odontológico e de artigos ópticos</th>\n",
              "      <td>47.500000</td>\n",
              "      <td>82.600000</td>\n",
              "      <td>-52.500000</td>\n",
              "      <td>-17.400000</td>\n",
              "    </tr>\n",
              "    <tr>\n",
              "      <th>32.9 Fabricação de produtos diversos</th>\n",
              "      <td>74.200000</td>\n",
              "      <td>95.600000</td>\n",
              "      <td>-25.800000</td>\n",
              "      <td>-4.400000</td>\n",
              "    </tr>\n",
              "  </tbody>\n",
              "</table>\n",
              "<p>104 rows × 4 columns</p>\n",
              "</div>"
            ],
            "text/plain": [
              "                                                             B  ...          F\n",
              "PIMPF - Produção física industrial por grupos e...              ...           \n",
              "Brasil - abril 2020                                  70.518447  ...  -8.205825\n",
              "10.1 Abate e fabricação de produtos de carne         96.100000  ...  -0.800000\n",
              "10.11 Abate de reses, exceto suínos                  90.000000  ...  -6.600000\n",
              "10.12 Abate de suínos, aves e outros pequenos a...  102.400000  ...   5.400000\n",
              "10.13 Fabricação de produtos de carne                83.200000  ... -15.000000\n",
              "...                                                        ...  ...        ...\n",
              "32.1 Fabricação de artigos de joalheria, bijute...   21.400000  ... -51.000000\n",
              "32.3 Fabricação de artefatos para pesca e esporte    76.800000  ... -12.700000\n",
              "32.4 Fabricação de brinquedos e jogos recreativos    32.300000  ...  -8.000000\n",
              "32.5 Fabricação de instrumentos e materiais par...   47.500000  ... -17.400000\n",
              "32.9 Fabricação de produtos diversos                 74.200000  ...  -4.400000\n",
              "\n",
              "[104 rows x 4 columns]"
            ]
          },
          "metadata": {
            "tags": []
          },
          "execution_count": 31
        }
      ]
    },
    {
      "cell_type": "markdown",
      "metadata": {
        "id": "Z5vPkBxrwUt9",
        "colab_type": "text"
      },
      "source": [
        "**Utilisando o chi2 (USADO NORMALMENTE QUANDO TEMOS FEATURES CATEGORICOS E VARIAVEL ALVO CATEGORICA)**"
      ]
    },
    {
      "cell_type": "code",
      "metadata": {
        "id": "FhNfZoFtwtem",
        "colab_type": "code",
        "colab": {}
      },
      "source": [
        "from sklearn.feature_selection import SelectKBest\n",
        "from sklearn.feature_selection import chi2"
      ],
      "execution_count": 0,
      "outputs": []
    },
    {
      "cell_type": "code",
      "metadata": {
        "id": "9IzVnE78xcei",
        "colab_type": "code",
        "outputId": "a25b1bd8-aec6-4f43-c63a-6a206206b66f",
        "colab": {
          "base_uri": "https://localhost:8080/",
          "height": 272
        }
      },
      "source": [
        "# features extraction \n",
        "test = SelectKBest (chi2 ,k=4)\n",
        "fit = test.fit(x,y)\n",
        "fit.get_support(indices=True)\n"
      ],
      "execution_count": 33,
      "outputs": [
        {
          "output_type": "error",
          "ename": "ValueError",
          "evalue": "ignored",
          "traceback": [
            "\u001b[0;31m---------------------------------------------------------------------------\u001b[0m",
            "\u001b[0;31mValueError\u001b[0m                                Traceback (most recent call last)",
            "\u001b[0;32m<ipython-input-33-4cad26cbcc0b>\u001b[0m in \u001b[0;36m<module>\u001b[0;34m()\u001b[0m\n\u001b[1;32m      1\u001b[0m \u001b[0;31m# features extraction\u001b[0m\u001b[0;34m\u001b[0m\u001b[0;34m\u001b[0m\u001b[0;34m\u001b[0m\u001b[0m\n\u001b[1;32m      2\u001b[0m \u001b[0mtest\u001b[0m \u001b[0;34m=\u001b[0m \u001b[0mSelectKBest\u001b[0m \u001b[0;34m(\u001b[0m\u001b[0mchi2\u001b[0m \u001b[0;34m,\u001b[0m\u001b[0mk\u001b[0m\u001b[0;34m=\u001b[0m\u001b[0;36m4\u001b[0m\u001b[0;34m)\u001b[0m\u001b[0;34m\u001b[0m\u001b[0;34m\u001b[0m\u001b[0m\n\u001b[0;32m----> 3\u001b[0;31m \u001b[0mfit\u001b[0m \u001b[0;34m=\u001b[0m \u001b[0mtest\u001b[0m\u001b[0;34m.\u001b[0m\u001b[0mfit\u001b[0m\u001b[0;34m(\u001b[0m\u001b[0mx\u001b[0m\u001b[0;34m,\u001b[0m\u001b[0my\u001b[0m\u001b[0;34m)\u001b[0m\u001b[0;34m\u001b[0m\u001b[0;34m\u001b[0m\u001b[0m\n\u001b[0m\u001b[1;32m      4\u001b[0m \u001b[0mfit\u001b[0m\u001b[0;34m.\u001b[0m\u001b[0mget_support\u001b[0m\u001b[0;34m(\u001b[0m\u001b[0mindices\u001b[0m\u001b[0;34m=\u001b[0m\u001b[0;32mTrue\u001b[0m\u001b[0;34m)\u001b[0m\u001b[0;34m\u001b[0m\u001b[0;34m\u001b[0m\u001b[0m\n",
            "\u001b[0;32m/usr/local/lib/python3.6/dist-packages/sklearn/feature_selection/_univariate_selection.py\u001b[0m in \u001b[0;36mfit\u001b[0;34m(self, X, y)\u001b[0m\n",
            "\u001b[0;32m/usr/local/lib/python3.6/dist-packages/sklearn/feature_selection/_univariate_selection.py\u001b[0m in \u001b[0;36mchi2\u001b[0;34m(X, y)\u001b[0m\n",
            "\u001b[0;31mValueError\u001b[0m: Input X must be non-negative."
          ]
        }
      ]
    },
    {
      "cell_type": "markdown",
      "metadata": {
        "id": "BgiuMGi5wflg",
        "colab_type": "text"
      },
      "source": [
        "**obs**"
      ]
    },
    {
      "cell_type": "markdown",
      "metadata": {
        "id": "I5j1rA1l5K8l",
        "colab_type": "text"
      },
      "source": [
        "The error message Input X must be non-negative says it all: Pearson's chi square test (goodness of fit) does not apply to negative values. It's logical because the chi square test assumes frequencies distribution and a frequency can't be a negative number. Consequently, sklearn.feature_selection.chi2 asserts the input is non-negative.\n",
        "\n",
        "You are saying that your features are \"min, max, mean, median and FFT of accelerometer signal\". In many cases, it may be quite safe to simply shift each feature to make it all positive, or even normalize to [0, 1] interval as suggested by EdChum.\n",
        "\n",
        "If data transformation is for some reason not possible (e.g. a negative value is an important factor), you should pick another statistic to score your features:\n",
        "\n",
        "sklearn.feature_selection.f_classif computes ANOVA f-value\n",
        "sklearn.feature_selection.mutual_info_classif computes the mutual information\n",
        "Since the whole point of this procedure is to prepare the features for another method, it's not a big deal to pick anyone, the end result usually the same or very close."
      ]
    },
    {
      "cell_type": "markdown",
      "metadata": {
        "id": "PDPgfqvEy9SO",
        "colab_type": "text"
      },
      "source": [
        "**Applicando o Recursive features Elimination - RFE**"
      ]
    },
    {
      "cell_type": "markdown",
      "metadata": {
        "id": "l2ixhRItv1Mo",
        "colab_type": "text"
      },
      "source": [
        "**Code RFE**"
      ]
    },
    {
      "cell_type": "markdown",
      "metadata": {
        "id": "Rkhojf2Dv09_",
        "colab_type": "text"
      },
      "source": [
        "\n",
        "\n",
        "```\n",
        "from sklearn.linear_model import LogisticRegression\n",
        "```\n",
        "\n"
      ]
    },
    {
      "cell_type": "markdown",
      "metadata": {
        "id": "XS243TlCv0uh",
        "colab_type": "text"
      },
      "source": [
        "\n",
        "\n",
        "```\n",
        "model = LogisticRegression(max_iter = 1000)\n",
        "```\n",
        "\n"
      ]
    },
    {
      "cell_type": "markdown",
      "metadata": {
        "id": "O9KNicNov0gT",
        "colab_type": "text"
      },
      "source": [
        "\n",
        "\n",
        "```\n",
        "from sklearn.feature_selection import RFE\n",
        "```\n",
        "\n"
      ]
    },
    {
      "cell_type": "markdown",
      "metadata": {
        "id": "tt-pZkUvv0Qr",
        "colab_type": "text"
      },
      "source": [
        "\n",
        "\n",
        "```\n",
        "rfe = RFE(model,4)\n",
        "```\n",
        "\n"
      ]
    },
    {
      "cell_type": "markdown",
      "metadata": {
        "id": "N8oTlLzkv0A-",
        "colab_type": "text"
      },
      "source": [
        "\n",
        "\n",
        "```\n",
        "fit = rfe.fit(x, y)\n",
        "```\n",
        "\n"
      ]
    },
    {
      "cell_type": "markdown",
      "metadata": {
        "id": "LkLoG-f_vzy2",
        "colab_type": "text"
      },
      "source": [
        "\n",
        "\n",
        "```\n",
        "print(\"numero de features : {}\".format(fit.n_features_)) \n",
        "```\n",
        "\n"
      ]
    },
    {
      "cell_type": "markdown",
      "metadata": {
        "id": "lkRcwXjGvzj-",
        "colab_type": "text"
      },
      "source": [
        "\n",
        "\n",
        "```\n",
        "cols = fit.get_support(indices=True)\n",
        "df.iloc[:,cols]\n",
        "```\n",
        "\n"
      ]
    },
    {
      "cell_type": "markdown",
      "metadata": {
        "id": "kKh41DgIu5bP",
        "colab_type": "text"
      },
      "source": [
        "**feature importance**"
      ]
    },
    {
      "cell_type": "markdown",
      "metadata": {
        "id": "Tg8n6_beTjXs",
        "colab_type": "text"
      },
      "source": [
        "\n",
        "\n",
        "```\n",
        "from sklearn.ensemble import RandomForestClassifier \n",
        "```\n",
        "\n"
      ]
    },
    {
      "cell_type": "markdown",
      "metadata": {
        "id": "N-VOXgaBTnlX",
        "colab_type": "text"
      },
      "source": [
        "\n",
        "\n",
        "```\n",
        "#Feature extration\n",
        "model = RandomForestClassifier(n_estimators = 10)\n",
        "model.fit(x,y)\n",
        "```\n",
        "\n"
      ]
    },
    {
      "cell_type": "markdown",
      "metadata": {
        "id": "6k4QG76WUdOv",
        "colab_type": "text"
      },
      "source": [
        "\n",
        "\n",
        "```\n",
        "print(model.feature_importances_)\n",
        "```\n",
        "\n"
      ]
    },
    {
      "cell_type": "markdown",
      "metadata": {
        "id": "UOMjlAlxU3pM",
        "colab_type": "text"
      },
      "source": [
        "\n",
        "\n",
        "```\n",
        "colnames\n",
        "```\n",
        "\n"
      ]
    },
    {
      "cell_type": "markdown",
      "metadata": {
        "id": "TQKBZEPlU9iL",
        "colab_type": "text"
      },
      "source": [
        "\n",
        "\n",
        "```\n",
        "# visualisando as features no dataframe\n",
        "import pandas as pd\n",
        "feature_importances = pd.DataFrame(mode1.feature_importances,\n",
        "                      index = x.columns,\n",
        "                      columns = ['feature_columns']).sort_values('feature_columns', ascending = False)    \n",
        "\n",
        "```\n",
        "\n"
      ]
    },
    {
      "cell_type": "markdown",
      "metadata": {
        "id": "9dUhq1u3aZLi",
        "colab_type": "text"
      },
      "source": [
        "\n",
        "\n",
        "```\n",
        "feature_importances\n",
        "```\n",
        "\n"
      ]
    },
    {
      "cell_type": "markdown",
      "metadata": {
        "id": "h_B3uybScV1T",
        "colab_type": "text"
      },
      "source": [
        "\n",
        "\n",
        "```\n",
        "# podemos plotar as feature_importances num grafico para visualizar lo\n",
        "feature_importances.plot(kind='bar')\n",
        "\n",
        "```\n",
        "\n"
      ]
    },
    {
      "cell_type": "markdown",
      "metadata": {
        "id": "9VsAv3JOfVIU",
        "colab_type": "text"
      },
      "source": [
        "**Feature selection as part of a pipeline**"
      ]
    },
    {
      "cell_type": "markdown",
      "metadata": {
        "id": "Hb1mMkivfYvH",
        "colab_type": "text"
      },
      "source": [
        "\n",
        "\n",
        "```\n",
        "clf = Pipeline([\n",
        "  ('feature_selection', RFE(LogisticRegression(max_iter = 2000),4)),\n",
        "  ('classification', RandomForestClassifier())\n",
        "])\n",
        "\n",
        "```\n",
        "\n"
      ]
    },
    {
      "cell_type": "markdown",
      "metadata": {
        "id": "rC9pekwuhCWe",
        "colab_type": "text"
      },
      "source": [
        "\n",
        "\n",
        "```\n",
        "clf.fit(X, y)\n",
        "```\n",
        "\n"
      ]
    },
    {
      "cell_type": "markdown",
      "metadata": {
        "id": "Wg7BCxUFgVKs",
        "colab_type": "text"
      },
      "source": [
        "\n",
        "\n",
        "```\n",
        "clf.steps\n",
        "```\n",
        "\n"
      ]
    },
    {
      "cell_type": "markdown",
      "metadata": {
        "id": "WczGjg_Yh4oA",
        "colab_type": "text"
      },
      "source": [
        "**Fim**"
      ]
    }
  ]
}